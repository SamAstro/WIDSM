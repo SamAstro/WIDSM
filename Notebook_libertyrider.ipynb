{
 "cells": [
  {
   "cell_type": "markdown",
   "metadata": {},
   "source": [
    "# Notebook project liberty rider WISDM\n",
    "## Data Mining\n",
    "\n",
    "---\n",
    "### Current statut\n",
    "The script:\n",
    "* loads the raw data\n",
    "* transforms it to example, i.e. 10-second segments\n",
    "* plots x-,y-,z-accel for a given (user, activity, segment)\n",
    "* creates following new features:\n",
    "    * 3 Average\n",
    "    * 3 standard deviation\n",
    "    * 3 Average Absolute Difference\n",
    "    * 3 Time Between Peaks\n",
    "\n",
    "### Next Step\n",
    "The script needs to:\n",
    "* **[IMPORTANT]** create following new features:\n",
    "    * 1 avg resultant accel\n",
    "    * 30 binned distribution\n",
    "* **[NOT IMPORTANT]** generalized plotting to any/all (user, activity, segment)\n",
    "* **[IMPORTANT]** Something with the transformed features (??)\n",
    "\n",
    "---\n",
    "\n",
    "\n",
    "### BUGs\n",
    "#### FIXME\n",
    "* ```Resultant``` feature is still not operationnal because of a series of series (??)\n",
    "\n",
    "#### CORRECTED\n",
    "* factor 10 in ```create_segment``` function.\n",
    "* Multi-indexing problem in final dataframe."
   ]
  },
  {
   "cell_type": "markdown",
   "metadata": {},
   "source": [
    "---\n",
    "\n",
    "---\n",
    "### Thursday, November 3, 2016\n",
    "I've created a jupyter script that loads the raw data, transformes it into segment of 10-second example duration and plots x-,y- and z-accel for a given (user, activity, segment)."
   ]
  },
  {
   "cell_type": "markdown",
   "metadata": {
    "collapsed": true
   },
   "source": [
    "---\n",
    "### Monday, November 7, 2016\n",
    "The script now creates the following new features:\n",
    "* 3 Average\n",
    "* 3 standard deviation\n",
    "* 3 Average Absolute Difference\n",
    "* 3 Time Between Peaks\n",
    "\n",
    "There is currently a problem of multi-indexing with the final dataframe. Also there was a factor 10 error in my ```create_segment()``` function."
   ]
  },
  {
   "cell_type": "markdown",
   "metadata": {
    "collapsed": true
   },
   "source": [
    "---\n",
    "### Tuesday, November 8, 2016\n",
    "I've corrected the problem of multi-indexing with the final dataframe. I'm having trouble coding the ```Resultant``` feature. Been getting the following error to the following code:\n",
    "```\n",
    "TypeError: Series.name must be a hashable type\n",
    "```\n",
    "\n",
    "```\n",
    "avg_resultant_accel = df_new[accel_cols].apply(lambda x: np.mean(np.sqrt(x.iloc[:,0]**2+\n",
    "                                                                        x.iloc[:,1]**2+\n",
    "                                                                        x.iloc[:,2]**2)))\n",
    "```\n",
    "\n",
    "Don't understand how to solve that... :/"
   ]
  },
  {
   "cell_type": "code",
   "execution_count": null,
   "metadata": {
    "collapsed": true
   },
   "outputs": [],
   "source": []
  }
 ],
 "metadata": {
  "kernelspec": {
   "display_name": "Python 3",
   "language": "python",
   "name": "python3"
  },
  "language_info": {
   "codemirror_mode": {
    "name": "ipython",
    "version": 3
   },
   "file_extension": ".py",
   "mimetype": "text/x-python",
   "name": "python",
   "nbconvert_exporter": "python",
   "pygments_lexer": "ipython3",
   "version": "3.5.2"
  }
 },
 "nbformat": 4,
 "nbformat_minor": 0
}
