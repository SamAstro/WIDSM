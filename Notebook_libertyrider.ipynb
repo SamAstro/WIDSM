{
 "cells": [
  {
   "cell_type": "markdown",
   "metadata": {},
   "source": [
    "# Notebook project liberty rider WISDM\n",
    "## Data Mining"
   ]
  },
  {
   "cell_type": "markdown",
   "metadata": {
    "collapsed": true
   },
   "source": [
    "### Monday, November 7, 2016\n",
    "#### Current statut\n",
    "The script:\n",
    "* loads the raw data\n",
    "* transforms it to example, i.e. 10-second segments\n",
    "* plots x-,y-,z-accel for a given (user, activity, segment)\n",
    "* creates following new features:\n",
    "    * 3 Average\n",
    "    * 3 standard deviation\n",
    "    * 3 Average Absolute Difference\n",
    "    * 3 Time Between Peaks\n",
    "\n",
    "#### Next Step\n",
    "The script needs to:\n",
    "* [IMPORTANT] create following new features:\n",
    "    * 1 avg resultant accel\n",
    "    * 30 binned distribution\n",
    "* [NOT IMPORTANT] generalized plotting to any/all (user, activity, segment)\n",
    "* [IMPORTANT] cre"
   ]
  },
  {
   "cell_type": "markdown",
   "metadata": {},
   "source": [
    "### Thursday, November 3, 2016\n",
    "#### Current statut\n",
    "The script:\n",
    "* loads the raw data\n",
    "* transforms it to example, i.e. 10-second segments\n",
    "* plots x-,y-,z-accel for a given (user, activity, segment)\n",
    "\n",
    "#### Next Step\n",
    "The script needs to:\n",
    "* generate 43 new features\n",
    "    * 3 average acceleration\n",
    "    * 3 std\n",
    "    * 3 avg abs diff\n",
    "    * 1 avg resultant accel\n",
    "    * 3 time between peaks\n",
    "    * 30 binned distribution\n",
    "* generalized plotting to any/all (user, activity, segment)"
   ]
  },
  {
   "cell_type": "code",
   "execution_count": null,
   "metadata": {
    "collapsed": true
   },
   "outputs": [],
   "source": []
  }
 ],
 "metadata": {
  "kernelspec": {
   "display_name": "Python 3",
   "language": "python",
   "name": "python3"
  },
  "language_info": {
   "codemirror_mode": {
    "name": "ipython",
    "version": 3
   },
   "file_extension": ".py",
   "mimetype": "text/x-python",
   "name": "python",
   "nbconvert_exporter": "python",
   "pygments_lexer": "ipython3",
   "version": "3.5.2"
  }
 },
 "nbformat": 4,
 "nbformat_minor": 0
}
