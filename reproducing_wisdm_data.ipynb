{
 "cells": [
  {
   "cell_type": "markdown",
   "metadata": {},
   "source": [
    "# Activity Recognition using Cell Phone Accelerometers\n",
    "## by Jennifer R. Kwapisz, Gary M. Weiss, Samuel A. Moore\n",
    "### Reproducing their results"
   ]
  },
  {
   "cell_type": "markdown",
   "metadata": {},
   "source": [
    "---\n",
    "\n",
    "## TODO  \n",
    "[ ] Find a way to map back label (0-5) to nominal value"
   ]
  },
  {
   "cell_type": "markdown",
   "metadata": {},
   "source": [
    "---\n",
    "\n",
    "## Notes\n",
    "The file had several '?' for missing values. I have changed that to '-99'. I should check how this affects the fit."
   ]
  },
  {
   "cell_type": "code",
   "execution_count": 25,
   "metadata": {
    "collapsed": false
   },
   "outputs": [],
   "source": [
    "# Loading all the needed modules\n",
    "import numpy as np\n",
    "import arff\n",
    "from sklearn.tree import DecisionTreeClassifier\n",
    "from sklearn import linear_model\n",
    "from sklearn.neural_network import MLPClassifier\n",
    "from sklearn.model_selection import train_test_split\n",
    "from sklearn.model_selection import KFold\n",
    "from sklearn.metrics import confusion_matrix\n",
    "from sklearn.metrics import accuracy_score\n",
    "from sklearn import linear_model\n",
    "from sklearn.metrics import classification_report\n",
    "from sklearn.model_selection import cross_val_predict"
   ]
  },
  {
   "cell_type": "code",
   "execution_count": 16,
   "metadata": {
    "collapsed": true
   },
   "outputs": [],
   "source": [
    "root = '/Users/samiadrappeau/data_science/projets_perso/liberty_rider/'\n",
    "dirin = 'WISDM/data_WISDM/'\n",
    "fid = root + dirin + 'WISDM_ar_v1.1_transformed.arff'"
   ]
  },
  {
   "cell_type": "code",
   "execution_count": 17,
   "metadata": {
    "collapsed": false,
    "scrolled": true
   },
   "outputs": [
    {
     "data": {
      "text/plain": [
       "(5418, 46)"
      ]
     },
     "execution_count": 17,
     "metadata": {},
     "output_type": "execute_result"
    }
   ],
   "source": [
    "dataset = arff.load(open(fid), 'rb')\n",
    "data = np.array(dataset['data'])\n",
    "data.shape"
   ]
  },
  {
   "cell_type": "code",
   "execution_count": 18,
   "metadata": {
    "collapsed": true
   },
   "outputs": [],
   "source": [
    "X = data[:,:45]\n",
    "y = data[:,45]"
   ]
  },
  {
   "cell_type": "code",
   "execution_count": 19,
   "metadata": {
    "collapsed": false
   },
   "outputs": [
    {
     "name": "stdout",
     "output_type": "stream",
     "text": [
      "[ 0.  1.  2.  3.  4.  5.]\n"
     ]
    }
   ],
   "source": [
    "print(np.unique(y))"
   ]
  },
  {
   "cell_type": "code",
   "execution_count": 20,
   "metadata": {
    "collapsed": true
   },
   "outputs": [],
   "source": [
    "target_names = ['Walking', 'Jogging', 'Upstairs', 'Downstairs', 'Sitting', 'Standing']"
   ]
  },
  {
   "cell_type": "markdown",
   "metadata": {},
   "source": [
    "### Machine learning algorithms\n",
    "#### Decision trees, Logistic regression and Multilayer Neural Network"
   ]
  },
  {
   "cell_type": "code",
   "execution_count": 21,
   "metadata": {
    "collapsed": false
   },
   "outputs": [],
   "source": [
    "# Declaring all three models used in the paper\n",
    "clf = DecisionTreeClassifier(random_state=0)\n",
    "logreg = linear_model.LogisticRegression(C=1e5)\n",
    "MLPclf = MLPClassifier(random_state=1)\n",
    "\n",
    "# Aggregating them\n",
    "algo = [clf, logreg, MLPclf]"
   ]
  },
  {
   "cell_type": "code",
   "execution_count": 26,
   "metadata": {
    "collapsed": false
   },
   "outputs": [
    {
     "name": "stdout",
     "output_type": "stream",
     "text": [
      "             precision    recall  f1-score   support\n",
      "\n",
      "    Walking       0.76      0.59      0.66      2081\n",
      "    Jogging       0.88      0.90      0.89      1625\n",
      "   Upstairs       0.28      0.35      0.31       632\n",
      " Downstairs       0.25      0.38      0.30       528\n",
      "    Sitting       0.92      0.82      0.87       306\n",
      "   Standing       0.76      0.90      0.82       246\n",
      "\n",
      "avg / total       0.70      0.66      0.67      5418\n",
      "\n",
      "[[1219  118  333  408    2    1]\n",
      " [  36 1466  100   22    1    0]\n",
      " [ 173   61  223  150    5   20]\n",
      " [ 181   19  124  198    3    3]\n",
      " [   1    2    4    0  251   48]\n",
      " [   3    2    3    4   12  222]]\n",
      "             precision    recall  f1-score   support\n",
      "\n",
      "    Walking       0.67      0.94      0.79      2081\n",
      "    Jogging       0.89      0.93      0.91      1625\n",
      "   Upstairs       0.46      0.15      0.22       632\n",
      " Downstairs       0.43      0.07      0.12       528\n",
      "    Sitting       0.97      0.89      0.93       306\n",
      "   Standing       0.90      0.80      0.85       246\n",
      "\n",
      "avg / total       0.72      0.75      0.70      5418\n",
      "\n",
      "[[1966   85   20    9    1    0]\n",
      " [  91 1519    6    9    0    0]\n",
      " [ 434   79   92   24    1    2]\n",
      " [ 390   29   67   38    4    0]\n",
      " [   3    2    5    5  272   19]\n",
      " [  31    0   11    4    3  197]]\n",
      "             precision    recall  f1-score   support\n",
      "\n",
      "    Walking       0.65      0.48      0.55      2081\n",
      "    Jogging       0.74      0.85      0.79      1625\n",
      "   Upstairs       0.23      0.32      0.27       632\n",
      " Downstairs       0.20      0.22      0.21       528\n",
      "    Sitting       0.84      0.78      0.81       306\n",
      "   Standing       0.66      0.65      0.65       246\n",
      "\n",
      "avg / total       0.59      0.57      0.58      5418\n",
      "\n",
      "[[1007  309  454  266    4   41]\n",
      " [  95 1374   64   82    5    5]\n",
      " [ 222   86  202  102    9   11]\n",
      " [ 184   74  142  116    6    6]\n",
      " [   7   17   10   13  239   20]\n",
      " [  35    5   15   11   20  160]]\n"
     ]
    }
   ],
   "source": [
    "# 10-fold cross-validation\n",
    "NBROUND = 10\n",
    "kf = KFold(n_splits=NBROUND)\n",
    "for  i, alg in enumerate(algo):\n",
    "    estimator = alg\n",
    "    pred = cross_val_predict(estimator, X, y, cv=10)\n",
    "    print(classification_report(y, pred, target_names=target_names))\n",
    "    print(confusion_matrix(y, pred))"
   ]
  },
  {
   "cell_type": "code",
   "execution_count": null,
   "metadata": {
    "collapsed": true
   },
   "outputs": [],
   "source": []
  }
 ],
 "metadata": {
  "kernelspec": {
   "display_name": "Python 3",
   "language": "python",
   "name": "python3"
  },
  "language_info": {
   "codemirror_mode": {
    "name": "ipython",
    "version": 3
   },
   "file_extension": ".py",
   "mimetype": "text/x-python",
   "name": "python",
   "nbconvert_exporter": "python",
   "pygments_lexer": "ipython3",
   "version": "3.5.2"
  }
 },
 "nbformat": 4,
 "nbformat_minor": 0
}
