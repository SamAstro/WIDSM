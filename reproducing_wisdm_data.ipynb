{
 "cells": [
  {
   "cell_type": "markdown",
   "metadata": {},
   "source": [
    "# Activity Recognition using Cell Phone Accelerometers\n",
    "## by Jennifer R. Kwapisz, Gary M. Weiss, Samuel A. Moore\n",
    "### Reproducing their results"
   ]
  },
  {
   "cell_type": "markdown",
   "metadata": {},
   "source": [
    "---\n",
    "\n",
    "## TODO  \n",
    "[ ] Find a way to map back label (0-5) to nominal value"
   ]
  },
  {
   "cell_type": "markdown",
   "metadata": {},
   "source": [
    "---\n",
    "\n",
    "## Notes\n",
    "The file had several '?' for missing values. I have changed that to '-99'. I should check how this affects the fit."
   ]
  },
  {
   "cell_type": "code",
   "execution_count": 99,
   "metadata": {
    "collapsed": false
   },
   "outputs": [],
   "source": [
    "# Loading all the needed modules\n",
    "import numpy as np\n",
    "import arff\n",
    "from sklearn.tree import DecisionTreeClassifier\n",
    "from sklearn.model_selection import train_test_split\n",
    "from sklearn.model_selection import KFold\n",
    "from sklearn.metrics import confusion_matrix\n",
    "from sklearn.metrics import accuracy_score\n",
    "from sklearn import linear_model\n",
    "from sklearn.metrics import classification_report"
   ]
  },
  {
   "cell_type": "code",
   "execution_count": 45,
   "metadata": {
    "collapsed": true
   },
   "outputs": [],
   "source": [
    "root = '/Users/samiadrappeau/data_science/projets_perso/liberty_rider/'\n",
    "dirin = 'data_WISDM/'\n",
    "fid = root + dirin + 'WISDM_ar_v1.1_transformed.arff'"
   ]
  },
  {
   "cell_type": "code",
   "execution_count": 46,
   "metadata": {
    "collapsed": false,
    "scrolled": true
   },
   "outputs": [
    {
     "data": {
      "text/plain": [
       "(5418, 46)"
      ]
     },
     "execution_count": 46,
     "metadata": {},
     "output_type": "execute_result"
    }
   ],
   "source": [
    "dataset = arff.load(open(fid), 'rb')\n",
    "data = np.array(dataset['data'])\n",
    "data.shape"
   ]
  },
  {
   "cell_type": "code",
   "execution_count": 102,
   "metadata": {
    "collapsed": true
   },
   "outputs": [],
   "source": [
    "X = data[:,:45]\n",
    "y = data[:,45]"
   ]
  },
  {
   "cell_type": "code",
   "execution_count": 108,
   "metadata": {
    "collapsed": false
   },
   "outputs": [
    {
     "name": "stdout",
     "output_type": "stream",
     "text": [
      "[ 0.  1.  2.  3.  4.  5.]\n"
     ]
    }
   ],
   "source": [
    "print(np.unique(y))"
   ]
  },
  {
   "cell_type": "code",
   "execution_count": 97,
   "metadata": {
    "collapsed": true
   },
   "outputs": [],
   "source": [
    "target_names = ['Walking', 'Jogging', 'Upstairs', 'Downstairs', 'Sitting', 'Standing']"
   ]
  },
  {
   "cell_type": "markdown",
   "metadata": {},
   "source": [
    "### Machine learning algorithms\n",
    "#### Decision trees, Logistic regression and Multilayer Neural Network"
   ]
  },
  {
   "cell_type": "code",
   "execution_count": 110,
   "metadata": {
    "collapsed": false
   },
   "outputs": [],
   "source": [
    "# Declaring all three models used in the paper\n",
    "clf = DecisionTreeClassifier(random_state=0)\n",
    "logreg = linear_model.LogisticRegression(C=1e5)\n",
    "MLPclf = MLPClassifier(random_state=1)\n",
    "\n",
    "# Aggregating them\n",
    "algo = [clf, logreg, MLPclf]"
   ]
  },
  {
   "cell_type": "code",
   "execution_count": 111,
   "metadata": {
    "collapsed": false
   },
   "outputs": [
    {
     "name": "stdout",
     "output_type": "stream",
     "text": [
      "             precision    recall  f1-score   support\n",
      "\n",
      "    Walking       0.76      0.59      0.66      2081\n",
      "    Jogging       0.88      0.90      0.89      1625\n",
      "   Upstairs       0.28      0.35      0.31       632\n",
      " Downstairs       0.25      0.38      0.30       528\n",
      "    Sitting       0.92      0.82      0.87       306\n",
      "   Standing       0.76      0.90      0.82       246\n",
      "\n",
      "avg / total       0.70      0.66      0.67      5418\n",
      "\n",
      "             precision    recall  f1-score   support\n",
      "\n",
      "    Walking       0.67      0.94      0.79      2081\n",
      "    Jogging       0.89      0.93      0.91      1625\n",
      "   Upstairs       0.46      0.14      0.22       632\n",
      " Downstairs       0.44      0.07      0.13       528\n",
      "    Sitting       0.97      0.88      0.92       306\n",
      "   Standing       0.89      0.82      0.85       246\n",
      "\n",
      "avg / total       0.72      0.75      0.70      5418\n",
      "\n",
      "             precision    recall  f1-score   support\n",
      "\n",
      "    Walking       0.65      0.48      0.55      2081\n",
      "    Jogging       0.74      0.85      0.79      1625\n",
      "   Upstairs       0.23      0.32      0.27       632\n",
      " Downstairs       0.20      0.22      0.21       528\n",
      "    Sitting       0.84      0.78      0.81       306\n",
      "   Standing       0.66      0.65      0.65       246\n",
      "\n",
      "avg / total       0.59      0.57      0.58      5418\n",
      "\n"
     ]
    }
   ],
   "source": [
    "# 10-fold cross-validation\n",
    "NBROUND = 10\n",
    "kf = KFold(n_splits=NBROUND)\n",
    "for  i, alg in enumerate(algo):\n",
    "    estimator = alg\n",
    "    pred = cross_val_predict(estimator, X, y, cv=10)\n",
    "    print(classification_report(y, pred, target_names=target_names))"
   ]
  },
  {
   "cell_type": "code",
   "execution_count": null,
   "metadata": {
    "collapsed": true
   },
   "outputs": [],
   "source": []
  }
 ],
 "metadata": {
  "kernelspec": {
   "display_name": "Python 3",
   "language": "python",
   "name": "python3"
  },
  "language_info": {
   "codemirror_mode": {
    "name": "ipython",
    "version": 3
   },
   "file_extension": ".py",
   "mimetype": "text/x-python",
   "name": "python",
   "nbconvert_exporter": "python",
   "pygments_lexer": "ipython3",
   "version": "3.5.2"
  }
 },
 "nbformat": 4,
 "nbformat_minor": 0
}
