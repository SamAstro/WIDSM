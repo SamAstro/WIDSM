{
 "cells": [
  {
   "cell_type": "markdown",
   "metadata": {},
   "source": [
    "# Activity Recognition using Cell Phone Accelerometers\n",
    "## by Jennifer R. Kwapisz, Gary M. Weiss, Samuel A. Moore\n",
    "### Data mining"
   ]
  },
  {
   "cell_type": "code",
   "execution_count": 1,
   "metadata": {
    "collapsed": true
   },
   "outputs": [],
   "source": [
    "# Loading all the needed modules\n",
    "import pandas as pd\n",
    "import matplotlib.pyplot as plt\n",
    "import matplotlib\n",
    "import seaborn as sns\n",
    "import numpy as np\n",
    "import scipy as sp\n",
    "from mpl_toolkits.mplot3d import Axes3D\n",
    "%matplotlib inline\n",
    "matplotlib.rcParams['figure.figsize'] = (8, 6)"
   ]
  },
  {
   "cell_type": "markdown",
   "metadata": {},
   "source": [
    "## Notes\n",
    "There is a falsy line in the original file. The following bash code fixes that:\n",
    "```\n",
    "cat WISDM_ar_v1.1_raw.txt | awk -F',' 'BEGIN { OFS=\",\"; RS=\";\"; ORS=\";\"; }{ if (NF==6) { print $0,\"\" } else if (NF==7) { print $0 }}' > raw_data_fixed.txt\n",
    "```"
   ]
  },
  {
   "cell_type": "code",
   "execution_count": 2,
   "metadata": {
    "collapsed": true
   },
   "outputs": [],
   "source": [
    "root = '/Users/samiadrappeau/data_science/projets_perso/liberty_rider/'\n",
    "dirin = 'WISDM/data_WISDM/'\n",
    "#fid = root + dirin + 'raw_data_fixed.txt'\n",
    "fid = root + dirin + 'WISDM_ar_v1.1_raw.txt'"
   ]
  },
  {
   "cell_type": "code",
   "execution_count": 3,
   "metadata": {
    "collapsed": false
   },
   "outputs": [
    {
     "name": "stderr",
     "output_type": "stream",
     "text": [
      "/opt/local/Library/Frameworks/Python.framework/Versions/3.5/lib/python3.5/site-packages/IPython/core/interactiveshell.py:2705: DtypeWarning: Columns (0) have mixed types. Specify dtype option on import or set low_memory=False.\n",
      "  interactivity=interactivity, compiler=compiler, result=result)\n"
     ]
    }
   ],
   "source": [
    "# Loading data\n",
    "df = pd.read_csv(fid, lineterminator=';' ,\n",
    "    header=None ,names=['user','activity','timestamp','xaccel','yaccel','zaccel', 'NA'])\n",
    "del df ['NA']"
   ]
  },
  {
   "cell_type": "code",
   "execution_count": 4,
   "metadata": {
    "collapsed": false
   },
   "outputs": [
    {
     "name": "stdout",
     "output_type": "stream",
     "text": [
      "Shape of data frame is: (1098209, 6)\n"
     ]
    }
   ],
   "source": [
    "print('Shape of data frame is:', df.shape, sep=\" \")"
   ]
  },
  {
   "cell_type": "code",
   "execution_count": 5,
   "metadata": {
    "collapsed": false
   },
   "outputs": [
    {
     "name": "stderr",
     "output_type": "stream",
     "text": [
      "/opt/local/Library/Frameworks/Python.framework/Versions/3.5/lib/python3.5/site-packages/numpy/lib/function_base.py:3834: RuntimeWarning: Invalid value encountered in percentile\n",
      "  RuntimeWarning)\n"
     ]
    },
    {
     "data": {
      "text/html": [
       "<div>\n",
       "<table border=\"1\" class=\"dataframe\">\n",
       "  <thead>\n",
       "    <tr style=\"text-align: right;\">\n",
       "      <th></th>\n",
       "      <th>xaccel</th>\n",
       "      <th>yaccel</th>\n",
       "      <th>zaccel</th>\n",
       "    </tr>\n",
       "  </thead>\n",
       "  <tbody>\n",
       "    <tr>\n",
       "      <th>count</th>\n",
       "      <td>1.098208e+06</td>\n",
       "      <td>1.098208e+06</td>\n",
       "      <td>1.098208e+06</td>\n",
       "    </tr>\n",
       "    <tr>\n",
       "      <th>mean</th>\n",
       "      <td>6.628660e-01</td>\n",
       "      <td>7.255626e+00</td>\n",
       "      <td>4.110784e-01</td>\n",
       "    </tr>\n",
       "    <tr>\n",
       "      <th>std</th>\n",
       "      <td>6.849046e+00</td>\n",
       "      <td>6.746216e+00</td>\n",
       "      <td>4.754120e+00</td>\n",
       "    </tr>\n",
       "    <tr>\n",
       "      <th>min</th>\n",
       "      <td>-1.961000e+01</td>\n",
       "      <td>-1.961000e+01</td>\n",
       "      <td>-1.980000e+01</td>\n",
       "    </tr>\n",
       "    <tr>\n",
       "      <th>25%</th>\n",
       "      <td>NaN</td>\n",
       "      <td>NaN</td>\n",
       "      <td>NaN</td>\n",
       "    </tr>\n",
       "    <tr>\n",
       "      <th>50%</th>\n",
       "      <td>NaN</td>\n",
       "      <td>NaN</td>\n",
       "      <td>NaN</td>\n",
       "    </tr>\n",
       "    <tr>\n",
       "      <th>75%</th>\n",
       "      <td>NaN</td>\n",
       "      <td>NaN</td>\n",
       "      <td>NaN</td>\n",
       "    </tr>\n",
       "    <tr>\n",
       "      <th>max</th>\n",
       "      <td>1.995000e+01</td>\n",
       "      <td>2.004000e+01</td>\n",
       "      <td>1.961000e+01</td>\n",
       "    </tr>\n",
       "  </tbody>\n",
       "</table>\n",
       "</div>"
      ],
      "text/plain": [
       "             xaccel        yaccel        zaccel\n",
       "count  1.098208e+06  1.098208e+06  1.098208e+06\n",
       "mean   6.628660e-01  7.255626e+00  4.110784e-01\n",
       "std    6.849046e+00  6.746216e+00  4.754120e+00\n",
       "min   -1.961000e+01 -1.961000e+01 -1.980000e+01\n",
       "25%             NaN           NaN           NaN\n",
       "50%             NaN           NaN           NaN\n",
       "75%             NaN           NaN           NaN\n",
       "max    1.995000e+01  2.004000e+01  1.961000e+01"
      ]
     },
     "execution_count": 5,
     "metadata": {},
     "output_type": "execute_result"
    }
   ],
   "source": [
    "df[['xaccel', 'yaccel', 'zaccel']].describe()"
   ]
  },
  {
   "cell_type": "code",
   "execution_count": 6,
   "metadata": {
    "collapsed": false,
    "scrolled": true
   },
   "outputs": [
    {
     "data": {
      "text/html": [
       "<div>\n",
       "<table border=\"1\" class=\"dataframe\">\n",
       "  <thead>\n",
       "    <tr style=\"text-align: right;\">\n",
       "      <th></th>\n",
       "      <th>user</th>\n",
       "      <th>activity</th>\n",
       "      <th>timestamp</th>\n",
       "      <th>xaccel</th>\n",
       "      <th>yaccel</th>\n",
       "      <th>zaccel</th>\n",
       "    </tr>\n",
       "  </thead>\n",
       "  <tbody>\n",
       "    <tr>\n",
       "      <th>0</th>\n",
       "      <td>33</td>\n",
       "      <td>Jogging</td>\n",
       "      <td>4.910596e+13</td>\n",
       "      <td>-0.694638</td>\n",
       "      <td>12.680544</td>\n",
       "      <td>0.503953</td>\n",
       "    </tr>\n",
       "    <tr>\n",
       "      <th>1</th>\n",
       "      <td>33</td>\n",
       "      <td>Jogging</td>\n",
       "      <td>4.910606e+13</td>\n",
       "      <td>5.012288</td>\n",
       "      <td>11.264028</td>\n",
       "      <td>0.953424</td>\n",
       "    </tr>\n",
       "    <tr>\n",
       "      <th>2</th>\n",
       "      <td>33</td>\n",
       "      <td>Jogging</td>\n",
       "      <td>4.910611e+13</td>\n",
       "      <td>4.903325</td>\n",
       "      <td>10.882658</td>\n",
       "      <td>-0.081722</td>\n",
       "    </tr>\n",
       "    <tr>\n",
       "      <th>3</th>\n",
       "      <td>33</td>\n",
       "      <td>Jogging</td>\n",
       "      <td>4.910622e+13</td>\n",
       "      <td>-0.612916</td>\n",
       "      <td>18.496431</td>\n",
       "      <td>3.023717</td>\n",
       "    </tr>\n",
       "    <tr>\n",
       "      <th>4</th>\n",
       "      <td>33</td>\n",
       "      <td>Jogging</td>\n",
       "      <td>4.910633e+13</td>\n",
       "      <td>-1.184970</td>\n",
       "      <td>12.108489</td>\n",
       "      <td>7.205164</td>\n",
       "    </tr>\n",
       "  </tbody>\n",
       "</table>\n",
       "</div>"
      ],
      "text/plain": [
       "  user activity     timestamp    xaccel     yaccel    zaccel\n",
       "0   33  Jogging  4.910596e+13 -0.694638  12.680544  0.503953\n",
       "1   33  Jogging  4.910606e+13  5.012288  11.264028  0.953424\n",
       "2   33  Jogging  4.910611e+13  4.903325  10.882658 -0.081722\n",
       "3   33  Jogging  4.910622e+13 -0.612916  18.496431  3.023717\n",
       "4   33  Jogging  4.910633e+13 -1.184970  12.108489  7.205164"
      ]
     },
     "execution_count": 6,
     "metadata": {},
     "output_type": "execute_result"
    }
   ],
   "source": [
    "df.head()"
   ]
  },
  {
   "cell_type": "code",
   "execution_count": 7,
   "metadata": {
    "collapsed": true
   },
   "outputs": [],
   "source": [
    "def create_segments(df):\n",
    "    ''' Convert timestamp to second, sort by user and time and create 10-second segments\n",
    "    '''\n",
    "    # Converting timestamp in nano-second to second\n",
    "    df['time_seconds'] = df['timestamp']*1e-9\n",
    "    # Sorting data by user and timestamp\n",
    "    df = df.sort_values(by=['user', 'time_seconds'])\n",
    "    # create segments\n",
    "    segment_length = 200\n",
    "    df['seq'] = range(df.shape[0])\n",
    "    df['segment'] = df.groupby(['user','activity'])['seq'].apply(lambda x: x%segment_length == 0).fillna(0).cumsum()\n",
    "    return df"
   ]
  },
  {
   "cell_type": "code",
   "execution_count": 8,
   "metadata": {
    "collapsed": false
   },
   "outputs": [],
   "source": [
    "df_segmented = create_segments(df)"
   ]
  },
  {
   "cell_type": "code",
   "execution_count": 9,
   "metadata": {
    "collapsed": false
   },
   "outputs": [
    {
     "data": {
      "text/html": [
       "<div>\n",
       "<table border=\"1\" class=\"dataframe\">\n",
       "  <thead>\n",
       "    <tr style=\"text-align: right;\">\n",
       "      <th></th>\n",
       "      <th>user</th>\n",
       "      <th>activity</th>\n",
       "      <th>timestamp</th>\n",
       "      <th>xaccel</th>\n",
       "      <th>yaccel</th>\n",
       "      <th>zaccel</th>\n",
       "      <th>time_seconds</th>\n",
       "      <th>seq</th>\n",
       "      <th>segment</th>\n",
       "    </tr>\n",
       "  </thead>\n",
       "  <tbody>\n",
       "    <tr>\n",
       "      <th>941964</th>\n",
       "      <td>1</td>\n",
       "      <td>Walking</td>\n",
       "      <td>4.991922e+12</td>\n",
       "      <td>0.69</td>\n",
       "      <td>10.80</td>\n",
       "      <td>-2.03</td>\n",
       "      <td>4991.922345</td>\n",
       "      <td>0</td>\n",
       "      <td>True</td>\n",
       "    </tr>\n",
       "    <tr>\n",
       "      <th>941965</th>\n",
       "      <td>1</td>\n",
       "      <td>Walking</td>\n",
       "      <td>4.991972e+12</td>\n",
       "      <td>6.85</td>\n",
       "      <td>7.44</td>\n",
       "      <td>-0.50</td>\n",
       "      <td>4991.972333</td>\n",
       "      <td>1</td>\n",
       "      <td>1</td>\n",
       "    </tr>\n",
       "    <tr>\n",
       "      <th>941966</th>\n",
       "      <td>1</td>\n",
       "      <td>Walking</td>\n",
       "      <td>4.992022e+12</td>\n",
       "      <td>0.93</td>\n",
       "      <td>5.63</td>\n",
       "      <td>-0.50</td>\n",
       "      <td>4992.022351</td>\n",
       "      <td>2</td>\n",
       "      <td>1</td>\n",
       "    </tr>\n",
       "    <tr>\n",
       "      <th>941967</th>\n",
       "      <td>1</td>\n",
       "      <td>Walking</td>\n",
       "      <td>4.992072e+12</td>\n",
       "      <td>-2.11</td>\n",
       "      <td>5.01</td>\n",
       "      <td>-0.69</td>\n",
       "      <td>4992.072339</td>\n",
       "      <td>3</td>\n",
       "      <td>1</td>\n",
       "    </tr>\n",
       "    <tr>\n",
       "      <th>941968</th>\n",
       "      <td>1</td>\n",
       "      <td>Walking</td>\n",
       "      <td>4.992122e+12</td>\n",
       "      <td>-4.59</td>\n",
       "      <td>4.29</td>\n",
       "      <td>-1.95</td>\n",
       "      <td>4992.122358</td>\n",
       "      <td>4</td>\n",
       "      <td>1</td>\n",
       "    </tr>\n",
       "  </tbody>\n",
       "</table>\n",
       "</div>"
      ],
      "text/plain": [
       "       user activity     timestamp  xaccel  yaccel  zaccel  time_seconds  seq  \\\n",
       "941964    1  Walking  4.991922e+12    0.69   10.80   -2.03   4991.922345    0   \n",
       "941965    1  Walking  4.991972e+12    6.85    7.44   -0.50   4991.972333    1   \n",
       "941966    1  Walking  4.992022e+12    0.93    5.63   -0.50   4992.022351    2   \n",
       "941967    1  Walking  4.992072e+12   -2.11    5.01   -0.69   4992.072339    3   \n",
       "941968    1  Walking  4.992122e+12   -4.59    4.29   -1.95   4992.122358    4   \n",
       "\n",
       "       segment  \n",
       "941964    True  \n",
       "941965       1  \n",
       "941966       1  \n",
       "941967       1  \n",
       "941968       1  "
      ]
     },
     "execution_count": 9,
     "metadata": {},
     "output_type": "execute_result"
    }
   ],
   "source": [
    "df_segmented.head()"
   ]
  },
  {
   "cell_type": "code",
   "execution_count": 10,
   "metadata": {
    "collapsed": false
   },
   "outputs": [],
   "source": [
    "#fig = plt.figure()\n",
    "#ax1 = fig.add_subplot(111)\n",
    "#plt.plot(df_segmented.loc[(df_segmented['user'] == 2) & (df_segmented['activity'] == 'Walking')]['timestamp'].diff(), '*')\n",
    "#ax1.set_ylim([-0.5*1e9,0.2*1e9])"
   ]
  },
  {
   "cell_type": "code",
   "execution_count": 11,
   "metadata": {
    "collapsed": false
   },
   "outputs": [
    {
     "name": "stdout",
     "output_type": "stream",
     "text": [
      "Shape of data frame is now: (1098209, 9)\n"
     ]
    }
   ],
   "source": [
    "print('Shape of data frame is now:', df_segmented.shape, sep=\" \")"
   ]
  },
  {
   "cell_type": "code",
   "execution_count": 12,
   "metadata": {
    "collapsed": false
   },
   "outputs": [],
   "source": [
    "#df_segmented.head(201)"
   ]
  },
  {
   "cell_type": "code",
   "execution_count": 13,
   "metadata": {
    "collapsed": false
   },
   "outputs": [],
   "source": [
    "# Extracting a user activity\n",
    "df_user = df_segmented[df_segmented.user == 33]"
   ]
  },
  {
   "cell_type": "code",
   "execution_count": 14,
   "metadata": {
    "collapsed": false
   },
   "outputs": [
    {
     "name": "stdout",
     "output_type": "stream",
     "text": [
      "       user  activity     timestamp  xaccel  yaccel  zaccel  time_seconds  \\\n",
      "462771   33  Standing  5.043823e+11    0.11    9.89    1.46    504.382335   \n",
      "462772   33  Standing  5.044323e+11    0.11    9.92    1.46    504.432262   \n",
      "462773   33  Standing  5.044823e+11    0.08    9.92    1.46    504.482280   \n",
      "462774   33  Standing  5.045323e+11    0.04    9.89    1.46    504.532298   \n",
      "462775   33  Standing  5.045823e+11    0.08    9.92    1.46    504.582316   \n",
      "\n",
      "           seq segment  \n",
      "462771  928520    4643  \n",
      "462772  928521    4643  \n",
      "462773  928522    4643  \n",
      "462774  928523    4643  \n",
      "462775  928524    4643  \n",
      "(29453, 9)\n"
     ]
    }
   ],
   "source": [
    "print(df_user.head())\n",
    "print(df_user.shape)"
   ]
  },
  {
   "cell_type": "code",
   "execution_count": 15,
   "metadata": {
    "collapsed": true
   },
   "outputs": [],
   "source": [
    "df_user_activity = df_user[df_user.activity == 'Sitting']"
   ]
  },
  {
   "cell_type": "code",
   "execution_count": 16,
   "metadata": {
    "collapsed": false
   },
   "outputs": [
    {
     "name": "stdout",
     "output_type": "stream",
     "text": [
      "       user activity     timestamp  xaccel  yaccel  zaccel  time_seconds  \\\n",
      "464383   33  Sitting  6.124323e+11    4.99    3.02    7.86    612.432323   \n",
      "464384   33  Sitting  6.124824e+11    5.22    3.26    8.05    612.482402   \n",
      "464385   33  Sitting  6.125323e+11    5.24    3.15    8.16    612.532329   \n",
      "464386   33  Sitting  6.125824e+11    5.33    3.57    8.05    612.582378   \n",
      "464387   33  Sitting  6.126324e+11    5.63    2.98    7.46    612.632365   \n",
      "\n",
      "           seq segment  \n",
      "464383  930132    4651  \n",
      "464384  930133    4651  \n",
      "464385  930134    4651  \n",
      "464386  930135    4651  \n",
      "464387  930136    4651  \n",
      "(3248, 9)\n"
     ]
    }
   ],
   "source": [
    "print(df_user_activity.head())\n",
    "print(df_user_activity.shape)"
   ]
  },
  {
   "cell_type": "code",
   "execution_count": 17,
   "metadata": {
    "collapsed": false
   },
   "outputs": [
    {
     "data": {
      "text/plain": [
       "array([[<matplotlib.axes._subplots.AxesSubplot object at 0x10bfa6828>],\n",
       "       [<matplotlib.axes._subplots.AxesSubplot object at 0x11d694ef0>],\n",
       "       [<matplotlib.axes._subplots.AxesSubplot object at 0x11d6e8860>]], dtype=object)"
      ]
     },
     "execution_count": 17,
     "metadata": {},
     "output_type": "execute_result"
    },
    {
     "data": {
      "image/png": "[encoded data removed]",
      "text/plain": [
       "<matplotlib.figure.Figure at 0x11d4e8e10>"
      ]
     },
     "metadata": {},
     "output_type": "display_data"
    }
   ],
   "source": [
    "df_user_activity[df_user_activity.segment==4651].plot(x='time_seconds', y=['xaccel',  'yaccel',  'zaccel'], subplots=True, layout=[3,1])"
   ]
  },
  {
   "cell_type": "code",
   "execution_count": 18,
   "metadata": {
    "collapsed": false
   },
   "outputs": [
    {
     "name": "stdout",
     "output_type": "stream",
     "text": [
      "[4651 4652 4653 4654 4655 4656 4657 4658 4659 4660 4661 4662 4663 4664 4665\n",
      " 4666 4667]\n",
      "          xaccel     yaccel     zaccel\n",
      "count  68.000000  68.000000  68.000000\n",
      "mean    5.337206   2.921324   7.977794\n",
      "std     0.095384   0.118144   0.082694\n",
      "min     4.990000   2.640000   7.460000\n",
      "25%     5.317500   2.870000   7.970000\n",
      "50%     5.330000   2.910000   7.990000\n",
      "75%     5.370000   2.960000   8.010000\n",
      "max     5.630000   3.570000   8.160000\n",
      "           xaccel      yaccel      zaccel\n",
      "count  200.000000  200.000000  200.000000\n",
      "mean     5.589250    2.826100    7.853000\n",
      "std      0.105373    0.066678    0.060857\n",
      "min      5.240000    2.560000    7.670000\n",
      "25%      5.560000    2.790000    7.820000\n",
      "50%      5.600000    2.830000    7.860000\n",
      "75%      5.630000    2.870000    7.890000\n",
      "max      5.940000    3.150000    8.010000\n",
      "           xaccel      yaccel      zaccel\n",
      "count  200.000000  200.000000  200.000000\n",
      "mean     5.596600    2.839700    7.849550\n",
      "std      0.039829    0.050004    0.037501\n",
      "min      5.480000    2.600000    7.700000\n",
      "25%      5.560000    2.830000    7.820000\n",
      "50%      5.600000    2.830000    7.860000\n",
      "75%      5.630000    2.870000    7.860000\n",
      "max      5.710000    3.110000    8.050000\n",
      "           xaccel      yaccel      zaccel\n",
      "count  200.000000  200.000000  200.000000\n",
      "mean     5.613200    2.814850    7.842350\n",
      "std      0.026896    0.038095    0.035316\n",
      "min      5.520000    2.640000    7.740000\n",
      "25%      5.600000    2.790000    7.820000\n",
      "50%      5.600000    2.830000    7.860000\n",
      "75%      5.630000    2.830000    7.860000\n",
      "max      5.710000    3.020000    7.930000\n",
      "           xaccel      yaccel      zaccel\n",
      "count  200.000000  200.000000  200.000000\n",
      "mean     5.599000    2.801650    7.845050\n",
      "std      0.034379    0.031107    0.034247\n",
      "min      5.480000    2.600000    7.670000\n",
      "25%      5.600000    2.790000    7.820000\n",
      "50%      5.600000    2.790000    7.860000\n",
      "75%      5.600000    2.830000    7.860000\n",
      "max      5.860000    2.910000    7.930000\n",
      "           xaccel      yaccel      zaccel\n",
      "count  200.000000  200.000000  200.000000\n",
      "mean     5.617150    2.734900    7.847300\n",
      "std      0.043217    0.064489    0.043325\n",
      "min      5.480000    2.530000    7.700000\n",
      "25%      5.600000    2.720000    7.820000\n",
      "50%      5.630000    2.720000    7.860000\n",
      "75%      5.630000    2.760000    7.860000\n",
      "max      5.750000    3.020000    7.970000\n",
      "           xaccel      yaccel      zaccel\n",
      "count  200.000000  200.000000  200.000000\n",
      "mean     5.696800    2.683900    7.823750\n",
      "std      0.078993    0.077016    0.051874\n",
      "min      5.240000    2.530000    7.630000\n",
      "25%      5.670000    2.640000    7.780000\n",
      "50%      5.710000    2.680000    7.820000\n",
      "75%      5.750000    2.720000    7.860000\n",
      "max      5.940000    3.060000    8.050000\n",
      "           xaccel      yaccel      zaccel\n",
      "count  200.000000  200.000000  200.000000\n",
      "mean     5.740850    2.630250    7.801250\n",
      "std      0.108899    0.056377    0.047277\n",
      "min      4.940000    2.490000    7.630000\n",
      "25%      5.710000    2.600000    7.780000\n",
      "50%      5.750000    2.640000    7.820000\n",
      "75%      5.750000    2.640000    7.820000\n",
      "max      6.550000    3.060000    8.010000\n",
      "          xaccel      yaccel      zaccel\n",
      "count  200.00000  200.000000  200.000000\n",
      "mean     5.74695    2.602300    7.811250\n",
      "std      0.04893    0.055272    0.056728\n",
      "min      5.43000    2.300000    7.460000\n",
      "25%      5.71000    2.560000    7.780000\n",
      "50%      5.75000    2.600000    7.820000\n",
      "75%      5.75000    2.600000    7.820000\n",
      "max      5.98000    2.910000    8.120000\n",
      "           xaccel      yaccel      zaccel\n",
      "count  200.000000  200.000000  200.000000\n",
      "mean     5.805800    2.563100    7.779550\n",
      "std      0.076535    0.047483    0.047089\n",
      "min      5.600000    2.370000    7.630000\n",
      "25%      5.750000    2.530000    7.740000\n",
      "50%      5.790000    2.560000    7.780000\n",
      "75%      5.860000    2.600000    7.820000\n",
      "max      6.020000    2.720000    7.890000\n",
      "           xaccel      yaccel      zaccel\n",
      "count  200.000000  200.000000  200.000000\n",
      "mean     5.817950    2.454800    7.793700\n",
      "std      0.037501    0.040796    0.037981\n",
      "min      5.670000    2.300000    7.700000\n",
      "25%      5.790000    2.450000    7.780000\n",
      "50%      5.830000    2.450000    7.780000\n",
      "75%      5.830000    2.490000    7.820000\n",
      "max      5.940000    2.680000    7.930000\n",
      "           xaccel      yaccel      zaccel\n",
      "count  200.000000  200.000000  200.000000\n",
      "mean     5.840850    2.444850    7.793600\n",
      "std      0.023677    0.032915    0.031687\n",
      "min      5.790000    2.300000    7.700000\n",
      "25%      5.830000    2.410000    7.780000\n",
      "50%      5.830000    2.450000    7.780000\n",
      "75%      5.860000    2.450000    7.820000\n",
      "max      5.900000    2.530000    7.860000\n",
      "           xaccel      yaccel     zaccel\n",
      "count  200.000000  200.000000  200.00000\n",
      "mean     5.849250    2.428800    7.78790\n",
      "std      0.026275    0.026873    0.03465\n",
      "min      5.750000    2.370000    7.70000\n",
      "25%      5.830000    2.410000    7.78000\n",
      "50%      5.860000    2.410000    7.78000\n",
      "75%      5.860000    2.450000    7.82000\n",
      "max      5.940000    2.490000    7.89000\n",
      "          xaccel      yaccel      zaccel\n",
      "count  200.00000  200.000000  200.000000\n",
      "mean     5.85895    2.443350    7.799900\n",
      "std      0.02256    0.023042    0.034684\n",
      "min      5.79000    2.370000    7.700000\n",
      "25%      5.86000    2.450000    7.780000\n",
      "50%      5.86000    2.450000    7.800000\n",
      "75%      5.86000    2.450000    7.820000\n",
      "max      5.90000    2.560000    7.890000\n",
      "           xaccel      yaccel      zaccel\n",
      "count  200.000000  200.000000  200.000000\n",
      "mean     5.864100    2.436900    7.796850\n",
      "std      0.030576    0.036731    0.038379\n",
      "min      5.750000    2.300000    7.700000\n",
      "25%      5.860000    2.410000    7.780000\n",
      "50%      5.860000    2.450000    7.780000\n",
      "75%      5.900000    2.450000    7.820000\n",
      "max      5.980000    2.560000    7.890000\n",
      "           xaccel      yaccel      zaccel\n",
      "count  200.000000  200.000000  200.000000\n",
      "mean     5.857950    2.428600    7.789600\n",
      "std      0.025029    0.023682    0.037023\n",
      "min      5.790000    2.370000    7.700000\n",
      "25%      5.830000    2.410000    7.780000\n",
      "50%      5.860000    2.410000    7.780000\n",
      "75%      5.860000    2.450000    7.820000\n",
      "max      5.940000    2.490000    7.860000\n",
      "           xaccel      yaccel      zaccel\n",
      "count  180.000000  180.000000  180.000000\n",
      "mean     5.869000    2.417556    7.777833\n",
      "std      0.050051    0.037679    0.037241\n",
      "min      5.710000    2.180000    7.670000\n",
      "25%      5.860000    2.410000    7.740000\n",
      "50%      5.860000    2.410000    7.780000\n",
      "75%      5.860000    2.450000    7.820000\n",
      "max      6.130000    2.490000    7.890000\n"
     ]
    }
   ],
   "source": [
    "print(df_user_activity['segment'].unique())\n",
    "# FIXME remove this for loop with a lambda function\n",
    "for x in df_user_activity.segment.unique():\n",
    "    print(df_user_activity[df_user_activity.segment == x][['xaccel','yaccel', 'zaccel']].describe())"
   ]
  },
  {
   "cell_type": "code",
   "execution_count": 19,
   "metadata": {
    "collapsed": false
   },
   "outputs": [
    {
     "name": "stdout",
     "output_type": "stream",
     "text": [
      "5492 38\n",
      "Index(['user', 'activity', 'timestamp', 'xaccel', 'yaccel', 'zaccel',\n",
      "       'time_seconds', 'seq', 'segment'],\n",
      "      dtype='object')\n"
     ]
    }
   ],
   "source": [
    "print(len(df_segmented['segment'].unique()),len(df_segmented['user'].unique()))\n",
    "range((df_segmented['segment'].unique()).shape[0])\n",
    "print(df_segmented.columns)"
   ]
  },
  {
   "cell_type": "code",
   "execution_count": 20,
   "metadata": {
    "collapsed": false
   },
   "outputs": [],
   "source": [
    "def create_new_features(df_old):\n",
    "    # Sorting data by user and segment\n",
    "    accel_cols = ['xaccel','yaccel','zaccel']\n",
    "    df_new = df_old.loc[:,accel_cols+['user','segment','activity']].groupby(['user', 'segment','activity'])\n",
    "    \n",
    "    # acceleration means\n",
    "    means = df_new[accel_cols].apply(lambda x: np.mean(x))\n",
    "    \n",
    "    # acceleration standard deviation\n",
    "    sds = df_new[accel_cols].apply(lambda x: np.std(x))\n",
    "    \n",
    "    # avg absolute difference\n",
    "    avg_absolute_diff_1 = df_new[accel_cols[0]].apply(lambda x: np.mean(np.absolute(x-np.mean(x))))\n",
    "    avg_absolute_diff_2 = df_new[accel_cols[1]].apply(lambda x: np.mean(np.absolute(x-np.mean(x))))\n",
    "    avg_absolute_diff_3 = df_new[accel_cols[2]].apply(lambda x: np.mean(np.absolute(x-np.mean(x))))\n",
    "    avg_absolute_diffs = [ avg_absolute_diff_1, avg_absolute_diff_2, avg_absolute_diff_3 ]\n",
    "    \n",
    "    # avg resultant accel\n",
    "    # FIXME problem here because x are a collection of Series.\n",
    "    avg_resultant_accel = df_new[accel_cols].apply(lambda x: np.mean(np.sqrt(x.iloc[:,0]**2+\n",
    "                                                                        x.iloc[:,1]**2+\n",
    "                                                                        x.iloc[:,2]**2)))\n",
    "    # time between peaks\n",
    "    between_peaks_1 = df_new[accel_cols[0]].apply(lambda x: np.abs(np.argmax(x)-np.argmin(x)))\n",
    "    between_peaks_2 = df_new[accel_cols[1]].apply(lambda x: np.abs(np.argmax(x)-np.argmin(x)))\n",
    "    between_peaks_3 = df_new[accel_cols[2]].apply(lambda x: np.abs(np.argmax(x)-np.argmin(x)))\n",
    "    between_peaks = [ between_peaks_1, between_peaks_2, between_peaks_3 ]\n",
    "    \n",
    "    \n",
    "    # concat columns\n",
    "    X = pd.concat([means, sds] + avg_absolute_diffs + between_peaks + [avg_resultant_accel], axis=1)\n",
    "    \n",
    "    X.columns = ['xavg', 'yavg', 'zavg','xstanddev','ystanddev', 'zstanddev','xabsdiff', 'yabsdiff', 'zabsdiff', 'xpeak', 'ypeak', 'zpeak', 'resultant']\n",
    "    X = X.reset_index(level=['user', 'segment', 'activity'])\n",
    "    X.drop('segment', axis=1, inplace=True)\n",
    "    X = X[['user',\\\n",
    "           'xavg', 'yavg', 'zavg',\\\n",
    "           'xpeak', 'ypeak','zpeak',\\\n",
    "           'xabsdiff', 'yabsdiff', 'zabsdiff',\\\n",
    "           'xstanddev', 'ystanddev', 'zstanddev',\\\n",
    "           'resultant',\\\n",
    "           'activity']]\n",
    "    return X"
   ]
  },
  {
   "cell_type": "code",
   "execution_count": 21,
   "metadata": {
    "collapsed": false
   },
   "outputs": [
    {
     "ename": "TypeError",
     "evalue": "Series.name must be a hashable type",
     "output_type": "error",
     "traceback": [
      "\u001b[0;31m---------------------------------------------------------------------------\u001b[0m",
      "\u001b[0;31mTypeError\u001b[0m                                 Traceback (most recent call last)",
      "\u001b[0;32m<ipython-input-21-9c41941ba116>\u001b[0m in \u001b[0;36m<module>\u001b[0;34m()\u001b[0m\n\u001b[0;32m----> 1\u001b[0;31m \u001b[0mdf_new_feats\u001b[0m \u001b[0;34m=\u001b[0m \u001b[0mcreate_new_features\u001b[0m\u001b[0;34m(\u001b[0m\u001b[0mdf_segmented\u001b[0m\u001b[0;34m)\u001b[0m\u001b[0;34m\u001b[0m\u001b[0m\n\u001b[0m",
      "\u001b[0;32m<ipython-input-20-bfa9e42f584e>\u001b[0m in \u001b[0;36mcreate_new_features\u001b[0;34m(df_old)\u001b[0m\n\u001b[1;32m     18\u001b[0m     \u001b[0;31m# avg resultant accel\u001b[0m\u001b[0;34m\u001b[0m\u001b[0;34m\u001b[0m\u001b[0m\n\u001b[1;32m     19\u001b[0m     \u001b[0;31m# FIXME problem here because x are a collection of Series.\u001b[0m\u001b[0;34m\u001b[0m\u001b[0;34m\u001b[0m\u001b[0m\n\u001b[0;32m---> 20\u001b[0;31m     avg_resultant_accel = df_new[accel_cols].apply(lambda x: np.mean(np.sqrt(x.iloc[:,0]**2+\n\u001b[0m\u001b[1;32m     21\u001b[0m                                                                         \u001b[0mx\u001b[0m\u001b[0;34m.\u001b[0m\u001b[0miloc\u001b[0m\u001b[0;34m[\u001b[0m\u001b[0;34m:\u001b[0m\u001b[0;34m,\u001b[0m\u001b[0;36m1\u001b[0m\u001b[0;34m]\u001b[0m\u001b[0;34m**\u001b[0m\u001b[0;36m2\u001b[0m\u001b[0;34m+\u001b[0m\u001b[0;34m\u001b[0m\u001b[0m\n\u001b[1;32m     22\u001b[0m                                                                         x.iloc[:,2]**2)))\n",
      "\u001b[0;32m/opt/local/Library/Frameworks/Python.framework/Versions/3.5/lib/python3.5/site-packages/pandas/core/groupby.py\u001b[0m in \u001b[0;36mapply\u001b[0;34m(self, func, *args, **kwargs)\u001b[0m\n\u001b[1;32m    649\u001b[0m         \u001b[0;31m# ignore SettingWithCopy here in case the user mutates\u001b[0m\u001b[0;34m\u001b[0m\u001b[0;34m\u001b[0m\u001b[0m\n\u001b[1;32m    650\u001b[0m         \u001b[0;32mwith\u001b[0m \u001b[0moption_context\u001b[0m\u001b[0;34m(\u001b[0m\u001b[0;34m'mode.chained_assignment'\u001b[0m\u001b[0;34m,\u001b[0m \u001b[0;32mNone\u001b[0m\u001b[0;34m)\u001b[0m\u001b[0;34m:\u001b[0m\u001b[0;34m\u001b[0m\u001b[0m\n\u001b[0;32m--> 651\u001b[0;31m             \u001b[0;32mreturn\u001b[0m \u001b[0mself\u001b[0m\u001b[0;34m.\u001b[0m\u001b[0m_python_apply_general\u001b[0m\u001b[0;34m(\u001b[0m\u001b[0mf\u001b[0m\u001b[0;34m)\u001b[0m\u001b[0;34m\u001b[0m\u001b[0m\n\u001b[0m\u001b[1;32m    652\u001b[0m \u001b[0;34m\u001b[0m\u001b[0m\n\u001b[1;32m    653\u001b[0m     \u001b[0;32mdef\u001b[0m \u001b[0m_python_apply_general\u001b[0m\u001b[0;34m(\u001b[0m\u001b[0mself\u001b[0m\u001b[0;34m,\u001b[0m \u001b[0mf\u001b[0m\u001b[0;34m)\u001b[0m\u001b[0;34m:\u001b[0m\u001b[0;34m\u001b[0m\u001b[0m\n",
      "\u001b[0;32m/opt/local/Library/Frameworks/Python.framework/Versions/3.5/lib/python3.5/site-packages/pandas/core/groupby.py\u001b[0m in \u001b[0;36m_python_apply_general\u001b[0;34m(self, f)\u001b[0m\n\u001b[1;32m    658\u001b[0m             \u001b[0mkeys\u001b[0m\u001b[0;34m,\u001b[0m\u001b[0;34m\u001b[0m\u001b[0m\n\u001b[1;32m    659\u001b[0m             \u001b[0mvalues\u001b[0m\u001b[0;34m,\u001b[0m\u001b[0;34m\u001b[0m\u001b[0m\n\u001b[0;32m--> 660\u001b[0;31m             not_indexed_same=mutated or self.mutated)\n\u001b[0m\u001b[1;32m    661\u001b[0m \u001b[0;34m\u001b[0m\u001b[0m\n\u001b[1;32m    662\u001b[0m     \u001b[0;32mdef\u001b[0m \u001b[0m_iterate_slices\u001b[0m\u001b[0;34m(\u001b[0m\u001b[0mself\u001b[0m\u001b[0;34m)\u001b[0m\u001b[0;34m:\u001b[0m\u001b[0;34m\u001b[0m\u001b[0m\n",
      "\u001b[0;32m/opt/local/Library/Frameworks/Python.framework/Versions/3.5/lib/python3.5/site-packages/pandas/core/groupby.py\u001b[0m in \u001b[0;36m_wrap_applied_output\u001b[0;34m(self, keys, values, not_indexed_same)\u001b[0m\n\u001b[1;32m   3373\u001b[0m                 coerce = True if any([isinstance(x, Timestamp)\n\u001b[1;32m   3374\u001b[0m                                       for x in values]) else False\n\u001b[0;32m-> 3375\u001b[0;31m                 return (Series(values, index=key_index, name=self.name)\n\u001b[0m\u001b[1;32m   3376\u001b[0m                         ._convert(datetime=True,\n\u001b[1;32m   3377\u001b[0m                                   coerce=coerce))\n",
      "\u001b[0;32m/opt/local/Library/Frameworks/Python.framework/Versions/3.5/lib/python3.5/site-packages/pandas/core/series.py\u001b[0m in \u001b[0;36m__init__\u001b[0;34m(self, data, index, dtype, name, copy, fastpath)\u001b[0m\n\u001b[1;32m    231\u001b[0m         \u001b[0mgeneric\u001b[0m\u001b[0;34m.\u001b[0m\u001b[0mNDFrame\u001b[0m\u001b[0;34m.\u001b[0m\u001b[0m__init__\u001b[0m\u001b[0;34m(\u001b[0m\u001b[0mself\u001b[0m\u001b[0;34m,\u001b[0m \u001b[0mdata\u001b[0m\u001b[0;34m,\u001b[0m \u001b[0mfastpath\u001b[0m\u001b[0;34m=\u001b[0m\u001b[0;32mTrue\u001b[0m\u001b[0;34m)\u001b[0m\u001b[0;34m\u001b[0m\u001b[0m\n\u001b[1;32m    232\u001b[0m \u001b[0;34m\u001b[0m\u001b[0m\n\u001b[0;32m--> 233\u001b[0;31m         \u001b[0mself\u001b[0m\u001b[0;34m.\u001b[0m\u001b[0mname\u001b[0m \u001b[0;34m=\u001b[0m \u001b[0mname\u001b[0m\u001b[0;34m\u001b[0m\u001b[0m\n\u001b[0m\u001b[1;32m    234\u001b[0m         \u001b[0mself\u001b[0m\u001b[0;34m.\u001b[0m\u001b[0m_set_axis\u001b[0m\u001b[0;34m(\u001b[0m\u001b[0;36m0\u001b[0m\u001b[0;34m,\u001b[0m \u001b[0mindex\u001b[0m\u001b[0;34m,\u001b[0m \u001b[0mfastpath\u001b[0m\u001b[0;34m=\u001b[0m\u001b[0;32mTrue\u001b[0m\u001b[0;34m)\u001b[0m\u001b[0;34m\u001b[0m\u001b[0m\n\u001b[1;32m    235\u001b[0m \u001b[0;34m\u001b[0m\u001b[0m\n",
      "\u001b[0;32m/opt/local/Library/Frameworks/Python.framework/Versions/3.5/lib/python3.5/site-packages/pandas/core/generic.py\u001b[0m in \u001b[0;36m__setattr__\u001b[0;34m(self, name, value)\u001b[0m\n\u001b[1;32m   2692\u001b[0m             \u001b[0mobject\u001b[0m\u001b[0;34m.\u001b[0m\u001b[0m__setattr__\u001b[0m\u001b[0;34m(\u001b[0m\u001b[0mself\u001b[0m\u001b[0;34m,\u001b[0m \u001b[0mname\u001b[0m\u001b[0;34m,\u001b[0m \u001b[0mvalue\u001b[0m\u001b[0;34m)\u001b[0m\u001b[0;34m\u001b[0m\u001b[0m\n\u001b[1;32m   2693\u001b[0m         \u001b[0;32melif\u001b[0m \u001b[0mname\u001b[0m \u001b[0;32min\u001b[0m \u001b[0mself\u001b[0m\u001b[0;34m.\u001b[0m\u001b[0m_metadata\u001b[0m\u001b[0;34m:\u001b[0m\u001b[0;34m\u001b[0m\u001b[0m\n\u001b[0;32m-> 2694\u001b[0;31m             \u001b[0mobject\u001b[0m\u001b[0;34m.\u001b[0m\u001b[0m__setattr__\u001b[0m\u001b[0;34m(\u001b[0m\u001b[0mself\u001b[0m\u001b[0;34m,\u001b[0m \u001b[0mname\u001b[0m\u001b[0;34m,\u001b[0m \u001b[0mvalue\u001b[0m\u001b[0;34m)\u001b[0m\u001b[0;34m\u001b[0m\u001b[0m\n\u001b[0m\u001b[1;32m   2695\u001b[0m         \u001b[0;32melse\u001b[0m\u001b[0;34m:\u001b[0m\u001b[0;34m\u001b[0m\u001b[0m\n\u001b[1;32m   2696\u001b[0m             \u001b[0;32mtry\u001b[0m\u001b[0;34m:\u001b[0m\u001b[0;34m\u001b[0m\u001b[0m\n",
      "\u001b[0;32m/opt/local/Library/Frameworks/Python.framework/Versions/3.5/lib/python3.5/site-packages/pandas/core/series.py\u001b[0m in \u001b[0;36mname\u001b[0;34m(self, value)\u001b[0m\n\u001b[1;32m    307\u001b[0m     \u001b[0;32mdef\u001b[0m \u001b[0mname\u001b[0m\u001b[0;34m(\u001b[0m\u001b[0mself\u001b[0m\u001b[0;34m,\u001b[0m \u001b[0mvalue\u001b[0m\u001b[0;34m)\u001b[0m\u001b[0;34m:\u001b[0m\u001b[0;34m\u001b[0m\u001b[0m\n\u001b[1;32m    308\u001b[0m         \u001b[0;32mif\u001b[0m \u001b[0mvalue\u001b[0m \u001b[0;32mis\u001b[0m \u001b[0;32mnot\u001b[0m \u001b[0;32mNone\u001b[0m \u001b[0;32mand\u001b[0m \u001b[0;32mnot\u001b[0m \u001b[0mcom\u001b[0m\u001b[0;34m.\u001b[0m\u001b[0mis_hashable\u001b[0m\u001b[0;34m(\u001b[0m\u001b[0mvalue\u001b[0m\u001b[0;34m)\u001b[0m\u001b[0;34m:\u001b[0m\u001b[0;34m\u001b[0m\u001b[0m\n\u001b[0;32m--> 309\u001b[0;31m             \u001b[0;32mraise\u001b[0m \u001b[0mTypeError\u001b[0m\u001b[0;34m(\u001b[0m\u001b[0;34m'Series.name must be a hashable type'\u001b[0m\u001b[0;34m)\u001b[0m\u001b[0;34m\u001b[0m\u001b[0m\n\u001b[0m\u001b[1;32m    310\u001b[0m         \u001b[0mobject\u001b[0m\u001b[0;34m.\u001b[0m\u001b[0m__setattr__\u001b[0m\u001b[0;34m(\u001b[0m\u001b[0mself\u001b[0m\u001b[0;34m,\u001b[0m \u001b[0;34m'_name'\u001b[0m\u001b[0;34m,\u001b[0m \u001b[0mvalue\u001b[0m\u001b[0;34m)\u001b[0m\u001b[0;34m\u001b[0m\u001b[0m\n\u001b[1;32m    311\u001b[0m \u001b[0;34m\u001b[0m\u001b[0m\n",
      "\u001b[0;31mTypeError\u001b[0m: Series.name must be a hashable type"
     ]
    }
   ],
   "source": [
    "df_new_feats = create_new_features(df_segmented)"
   ]
  },
  {
   "cell_type": "code",
   "execution_count": null,
   "metadata": {
    "collapsed": false
   },
   "outputs": [],
   "source": [
    "df_new_feats[(df_new_feats.user==33) & (df_new_feats.activity=='Jogging')].head()"
   ]
  },
  {
   "cell_type": "code",
   "execution_count": null,
   "metadata": {
    "collapsed": false
   },
   "outputs": [],
   "source": [
    "df_new_feats.columns"
   ]
  },
  {
   "cell_type": "code",
   "execution_count": null,
   "metadata": {
    "collapsed": false
   },
   "outputs": [],
   "source": [
    "df_new_feats.columns"
   ]
  },
  {
   "cell_type": "code",
   "execution_count": null,
   "metadata": {
    "collapsed": false
   },
   "outputs": [],
   "source": []
  },
  {
   "cell_type": "code",
   "execution_count": null,
   "metadata": {
    "collapsed": false
   },
   "outputs": [],
   "source": [
    "df_new_feats.head()"
   ]
  },
  {
   "cell_type": "code",
   "execution_count": null,
   "metadata": {
    "collapsed": false
   },
   "outputs": [],
   "source": [
    "df_new_feats[df_new_feats.user == 1].head()"
   ]
  },
  {
   "cell_type": "code",
   "execution_count": null,
   "metadata": {
    "collapsed": true
   },
   "outputs": [],
   "source": []
  },
  {
   "cell_type": "code",
   "execution_count": null,
   "metadata": {
    "collapsed": false
   },
   "outputs": [],
   "source": [
    "df_new_feats.columns"
   ]
  },
  {
   "cell_type": "code",
   "execution_count": null,
   "metadata": {
    "collapsed": true
   },
   "outputs": [],
   "source": []
  }
 ],
 "metadata": {
  "kernelspec": {
   "display_name": "Python 3",
   "language": "python",
   "name": "python3"
  },
  "language_info": {
   "codemirror_mode": {
    "name": "ipython",
    "version": 3
   },
   "file_extension": ".py",
   "mimetype": "text/x-python",
   "name": "python",
   "nbconvert_exporter": "python",
   "pygments_lexer": "ipython3",
   "version": "3.5.2"
  }
 },
 "nbformat": 4,
 "nbformat_minor": 0
}
